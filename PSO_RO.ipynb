{
  "cells": [
    {
      "cell_type": "code",
      "execution_count": null,
      "metadata": {
        "id": "8FpsMq7otBni"
      },
      "outputs": [],
      "source": [
        "#!pip install pymoo --q --user"
      ]
    },
    {
      "cell_type": "markdown",
      "metadata": {
        "id": "oj5Bg-7CxJxE"
      },
      "source": [
        "# **Importation des bibliothéques**"
      ]
    },
    {
      "cell_type": "code",
      "execution_count": 15,
      "metadata": {
        "id": "vouV-WsWt5gM"
      },
      "outputs": [],
      "source": [
        "from pymoo.problems import get_problem\n",
        "from pymoo.algorithms.soo.nonconvex.pso import PSO\n",
        "from pymoo.optimize import minimize\n",
        "from pymoo.visualization.scatter import Scatter\n",
        "\n",
        "import matplotlib.pyplot as plt\n",
        "import numpy as np"
      ]
    },
    {
      "cell_type": "markdown",
      "metadata": {
        "id": "slukgCPd1vyT"
      },
      "source": [
        "# **Initialisation d'algorithme**"
      ]
    },
    {
      "cell_type": "code",
      "execution_count": 4,
      "metadata": {
        "id": "zn16PlYh2Adk"
      },
      "outputs": [],
      "source": [
        "Algorithm = PSO(\n",
        "    pop_size=50,  # Nombre des particules\n",
        "    w=0.5,        # Poids d'inertie\n",
        "    c1=1.5,       # Coefficient cognitif\n",
        "    c2=2.0        # Coefficient social\n",
        ")"
      ]
    },
    {
      "cell_type": "code",
      "execution_count": 5,
      "metadata": {
        "id": "VtAI2wSh7mBn"
      },
      "outputs": [],
      "source": [
        "class MultiObjectivePSO:\n",
        "    def __init__(self, problem, num_particles=50, max_gen=100, w=0.5, c1=1.5, c2=1.5):\n",
        "        self.problem = problem\n",
        "        self.num_particles = num_particles\n",
        "        self.max_gen = max_gen\n",
        "        self.w = w\n",
        "        self.c1 = c1\n",
        "        self.c2 = c2\n",
        "\n",
        "        self.n_var = problem.n_var\n",
        "        self.n_obj = problem.n_obj\n",
        "        self.lower_bound = problem.xl\n",
        "        self.upper_bound = problem.xu\n",
        "\n",
        "        self.init_particles()\n",
        "\n",
        "    def init_particles(self):\n",
        "        self.positions = np.random.uniform(\n",
        "            self.lower_bound, self.upper_bound,\n",
        "            (self.num_particles, self.n_var)\n",
        "        )\n",
        "        self.velocities = np.random.uniform(\n",
        "            -1, 1, (self.num_particles, self.n_var)\n",
        "        )\n",
        "        self.personal_best_positions = self.positions.copy()\n",
        "        self.personal_best_scores = np.inf * np.ones((self.num_particles, self.n_obj))\n",
        "        self.global_best_archive = []\n",
        "\n",
        "    def evaluate(self, positions):\n",
        "        F = np.zeros((positions.shape[0], self.n_obj))\n",
        "        for i, x in enumerate(positions):\n",
        "            F[i, :] = self.problem.evaluate(np.array([x]))[0]\n",
        "        return F\n",
        "\n",
        "    def dominates(self, a, b):\n",
        "        return np.all(a <= b) and np.any(a < b)\n",
        "\n",
        "    def update_archive(self, F, positions):\n",
        "        for i in range(F.shape[0]):\n",
        "            new_sol = (positions[i], F[i])\n",
        "            self.global_best_archive = [\n",
        "                sol for sol in self.global_best_archive if not self.dominates(new_sol[1], sol[1])\n",
        "            ]\n",
        "            if not any(self.dominates(sol[1], new_sol[1]) for sol in self.global_best_archive):\n",
        "                self.global_best_archive.append(new_sol)\n",
        "\n",
        "    def optimize(self):\n",
        "        for gen in range(self.max_gen):\n",
        "            scores = self.evaluate(self.positions)\n",
        "\n",
        "            for i in range(self.num_particles):\n",
        "                if self.dominates(scores[i], self.personal_best_scores[i]):\n",
        "                    self.personal_best_scores[i] = scores[i]\n",
        "                    self.personal_best_positions[i] = self.positions[i]\n",
        "\n",
        "            self.update_archive(scores, self.positions)\n",
        "\n",
        "            global_best_positions = np.array([sol[0] for sol in self.global_best_archive])\n",
        "            global_best = global_best_positions[np.random.choice(len(global_best_positions))]\n",
        "\n",
        "            r1 = np.random.random((self.num_particles, self.n_var))\n",
        "            r2 = np.random.random((self.num_particles, self.n_var))\n",
        "            self.velocities = (\n",
        "                self.w * self.velocities +\n",
        "                self.c1 * r1 * (self.personal_best_positions - self.positions) +\n",
        "                self.c2 * r2 * (global_best - self.positions)\n",
        "            )\n",
        "            self.positions += self.velocities\n",
        "\n",
        "            self.positions = np.clip(self.positions, self.lower_bound, self.upper_bound)\n",
        "\n",
        "            print(f\"Generation {gen + 1}/{self.max_gen}: Archive size = {len(self.global_best_archive)}\")\n",
        "\n",
        "        return self.global_best_archive"
      ]
    },
    {
      "cell_type": "markdown",
      "metadata": {
        "id": "FRM4Ls2SuxU4"
      },
      "source": [
        "# **Rastrigin Problem**"
      ]
    },
    {
      "cell_type": "markdown",
      "metadata": {
        "id": "mqg7BaGbvn33"
      },
      "source": [
        "Définition du probléme"
      ]
    },
    {
      "cell_type": "code",
      "execution_count": 6,
      "metadata": {
        "id": "ZjX-x2zPu4an"
      },
      "outputs": [],
      "source": [
        "class RastriginProblem:\n",
        "    def __init__(self, n_var=2):\n",
        "        self.n_var = n_var\n",
        "        self.n_obj = 1\n",
        "        self.xl = np.array([-5.12] * n_var)\n",
        "        self.xu = np.array([5.12] * n_var)\n",
        "\n",
        "    def evaluate(self, x, **kwargs):\n",
        "        n = x.shape[1]\n",
        "        f = 10 * n + np.sum(x**2 - 10 * np.cos(2 * np.pi * x), axis=1)\n",
        "        return {'F': np.array([f]).T}\n",
        "\n",
        "    def bounds(self):\n",
        "        return self.xl, self.xu\n",
        "\n",
        "    def has_constraints(self):\n",
        "        return False\n",
        "\n",
        "    def has_bounds(self):\n",
        "        return True"
      ]
    },
    {
      "cell_type": "code",
      "execution_count": 7,
      "metadata": {
        "id": "-i-O-_icvh_f"
      },
      "outputs": [],
      "source": [
        "Rastrigin = RastriginProblem(n_var=2)"
      ]
    },
    {
      "cell_type": "markdown",
      "metadata": {
        "id": "BZiGldWWvvin"
      },
      "source": [
        "Optimisation"
      ]
    },
    {
      "cell_type": "code",
      "execution_count": null,
      "metadata": {
        "colab": {
          "base_uri": "https://localhost:8080/"
        },
        "id": "QVzKgLBtvNMR",
        "outputId": "8bd8f977-0839-4729-a3ed-ea23ae04600f"
      },
      "outputs": [],
      "source": [
        "result = minimize(Rastrigin,\n",
        "                  Algorithm,\n",
        "                  termination=('n_gen', 15),  # Arreter aprés 100 générations\n",
        "                  seed=1,\n",
        "                  verbose=True,\n",
        "                  save_history = True)"
      ]
    },
    {
      "cell_type": "code",
      "execution_count": null,
      "metadata": {
        "colab": {
          "base_uri": "https://localhost:8080/",
          "height": 829
        },
        "id": "qrwKWts56PUV",
        "outputId": "0a883d0d-6f47-40bc-cd15-ba678acca258"
      },
      "outputs": [],
      "source": [
        "from IPython.display import display, clear_output\n",
        "import time\n",
        "\n",
        "fig = plt.figure(figsize=(10, 10))\n",
        "\n",
        "history = result.history\n",
        "\n",
        "for frame in range(len(history)):\n",
        "    clear_output(wait=True)\n",
        "\n",
        "    # Create the surface plot\n",
        "    ax = fig.add_subplot(111, projection='3d')\n",
        "    x = np.linspace(-5.12, 5.12, 100)\n",
        "    y = np.linspace(-5.12, 5.12, 100)\n",
        "    X, Y = np.meshgrid(x, y)\n",
        "    Z = 10 * 2 + X**2 - 10 * np.cos(2 * np.pi * X) + Y**2 - 10 * np.cos(2 * np.pi * Y)\n",
        "    surf = ax.plot_surface(X, Y, Z, cmap='viridis', alpha=0.5)\n",
        "\n",
        "    # Plot population at current generation\n",
        "    pop = history[frame].pop\n",
        "    solutions = pop.get(\"X\")\n",
        "    ax.scatter(solutions[:, 0], solutions[:, 1],\n",
        "              [Rastrigin.evaluate(np.array([x]))['F'][0] for x in solutions],\n",
        "              color='red', alpha=0.5, s=100)\n",
        "\n",
        "    ax.set_title(f\"Generation {frame}\")\n",
        "    ax.set_xlabel(\"X1\")\n",
        "    ax.set_ylabel(\"X2\")\n",
        "    ax.set_zlabel(\"f(X1, X2)\")\n",
        "\n",
        "    display(plt.gcf())\n",
        "    time.sleep(0.2)\n",
        "    plt.clf()\n",
        "\n",
        "plt.close()"
      ]
    },
    {
      "cell_type": "code",
      "execution_count": null,
      "metadata": {
        "colab": {
          "base_uri": "https://localhost:8080/"
        },
        "id": "iA-AzLoO0T7H",
        "outputId": "12ec51dc-dccd-4eed-fd8c-d5302341cb65"
      },
      "outputs": [],
      "source": [
        "Best_solution = result.X\n",
        "print(\"Best Solution : {}\".format(Best_solution))\n",
        "print(\"Objective Value : {}\".format(result.F[0]))"
      ]
    },
    {
      "cell_type": "markdown",
      "metadata": {
        "id": "j-3ZQNXHxx9p"
      },
      "source": [
        "Visualisation"
      ]
    },
    {
      "cell_type": "code",
      "execution_count": null,
      "metadata": {
        "colab": {
          "base_uri": "https://localhost:8080/",
          "height": 675
        },
        "id": "f2eIBWAlxu74",
        "outputId": "468e294f-8ef4-4861-dbe7-1f31e8394381"
      },
      "outputs": [],
      "source": [
        "x = np.linspace(-5.12, 5.12, 500)\n",
        "y = np.linspace(-5.12, 5.12, 500)\n",
        "X, Y = np.meshgrid(x, y)\n",
        "Z = 10 * 2 + X**2 - 10 * np.cos(2 * np.pi * X) + Y**2 - 10 * np.cos(2 * np.pi * Y)\n",
        "\n",
        "plt.contourf(X, Y, Z, levels=50, cmap='viridis')\n",
        "plt.colorbar()\n",
        "plt.scatter(result.X[0], result.X[1], color='red', label='Best Solution')\n",
        "plt.title(\"Rastrigin Function Optimization\")\n",
        "plt.xlabel(\"X1\")\n",
        "plt.ylabel(\"X2\")\n",
        "plt.legend()\n",
        "plt.show()"
      ]
    },
    {
      "cell_type": "markdown",
      "metadata": {
        "id": "kjAT0d0a5p-J"
      },
      "source": [
        "# **ZDT1**"
      ]
    },
    {
      "cell_type": "markdown",
      "metadata": {
        "id": "opk5ZSmK54c_"
      },
      "source": [
        "Définition du probléme"
      ]
    },
    {
      "cell_type": "code",
      "execution_count": 12,
      "metadata": {
        "id": "GPQ8pn7z5s9V"
      },
      "outputs": [],
      "source": [
        "ZDT1 = get_problem(\"zdt1\", n_var=20)"
      ]
    },
    {
      "cell_type": "markdown",
      "metadata": {
        "id": "MThEVhmN56Pt"
      },
      "source": [
        "Optimisation"
      ]
    },
    {
      "cell_type": "code",
      "execution_count": null,
      "metadata": {
        "colab": {
          "base_uri": "https://localhost:8080/"
        },
        "id": "sYu-v7_853Rd",
        "outputId": "21cd403e-4c2f-4bf7-a75d-5618ec86f80b"
      },
      "outputs": [],
      "source": [
        "pso = MultiObjectivePSO(ZDT1)\n",
        "pareto_archive = pso.optimize()"
      ]
    },
    {
      "cell_type": "markdown",
      "metadata": {
        "id": "a5KDXB5e6PtG"
      },
      "source": [
        "Visualisation"
      ]
    },
    {
      "cell_type": "code",
      "execution_count": null,
      "metadata": {
        "colab": {
          "base_uri": "https://localhost:8080/",
          "height": 472
        },
        "id": "xxNhX7cN6SNN",
        "outputId": "cd1d426c-fa10-4385-8530-71d958db9dc7"
      },
      "outputs": [],
      "source": [
        "pareto_objectives = np.array([obj for _, obj in pareto_archive])\n",
        "\n",
        "plt.scatter(pareto_objectives[:, 0], pareto_objectives[:, 1], color=\"red\", marker=\"x\")\n",
        "plt.xlabel(\"F: 1\")\n",
        "plt.ylabel(\"F: 2\")\n",
        "plt.title(\"Pareto Front\")\n",
        "plt.show()"
      ]
    },
    {
      "cell_type": "code",
      "execution_count": null,
      "metadata": {},
      "outputs": [],
      "source": []
    }
  ],
  "metadata": {
    "colab": {
      "provenance": []
    },
    "kernelspec": {
      "display_name": "Python 3",
      "language": "python",
      "name": "python3"
    },
    "language_info": {
      "codemirror_mode": {
        "name": "ipython",
        "version": 3
      },
      "file_extension": ".py",
      "mimetype": "text/x-python",
      "name": "python",
      "nbconvert_exporter": "python",
      "pygments_lexer": "ipython3",
      "version": "3.12.2"
    }
  },
  "nbformat": 4,
  "nbformat_minor": 0
}
